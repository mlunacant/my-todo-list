{
 "cells": [
  {
   "cell_type": "markdown",
   "id": "d2f2b4ef-0ce4-4b69-a845-a06b57a13ed1",
   "metadata": {},
   "source": [
    "# To-do App with CRUD + Auth using v0, Replit, Firebase and Cursor"
   ]
  },
  {
   "cell_type": "markdown",
   "id": "0229bcce-054c-4869-812a-e75467048c51",
   "metadata": {},
   "source": [
    "## Notes\n",
    "* TO-DO app.\n",
    "* Project name: v1-013-todo-with-cursor"
   ]
  },
  {
   "cell_type": "markdown",
   "id": "32a90313-df0a-462a-898e-f6a510ebb10d",
   "metadata": {},
   "source": [
    "## From starter template to app using Replit, Cursor and Firebase: Generic Operations\n",
    "1. Plan the App.\n",
    "2. Decide the Stack.\n",
    "3. Explore possibilities (Brainstorming).\n",
    "4. Decide the Starter Template.\n",
    "5. Open the Starter Template in Replit.\n",
    "6. Connect Cursor with Replit.\n",
    "7. Open the Starter Template in Cursor.\n",
    "8. Create the Database, Storage, and Authentication in Firebase.\n",
    "9. Connect Firebase with Replit.\n",
    "10. Open the Starter Template with the Webview in Replit.\n",
    "11. Confirm the Starter Template is working fine.\n",
    "12. Connect Github with Replit.\n",
    "13. Start saving versions of the project in Github.\n",
    "14. Test the Deployment of the Starter Template with Replit.\n",
    "15. Use prompting and debugging in Cursor to transform the Starter Template into your desired app."
   ]
  },
  {
   "cell_type": "markdown",
   "id": "d43cd252-c6df-4ac2-8f47-82d3098c06ff",
   "metadata": {},
   "source": [
    "## 1. Plan the App.\n",
    "* Define very clearly the main use case of the app.\n",
    "    * Who is the user?\n",
    "    * What is his necessity?\n",
    "    * What is he going to do in the app? What steps is he going to follow?\n",
    "* Visualize the logic of the app.\n",
    "    * input.\n",
    "    * process.\n",
    "    * output.\n",
    "* Visualize a draft of the UI."
   ]
  },
  {
   "cell_type": "markdown",
   "id": "fe1b2e97-ba5f-4120-ad5a-9e873772ff1b",
   "metadata": {},
   "source": [
    "## 2. Decide the Stack.\n",
    "* Remember: Since they have been trained with the code posted on the Internet, LLMs work better with popular languages.\n",
    "* Remember: You can use the @Docs feature in Cursor to tell Cursor where is the documentation of a particular language, package or version. This is specially interesting when you need to use a new language, framework of package that the LLM may not be familiar with.\n",
    "* For this basic projects, we will use the most popular stack:\n",
    "    * Next.js, Typescript and Tailwind CSS in the frontend.\n",
    "    * Next.js Router.\n",
    "    * Firebase for database and authentication.\n",
    "    * Cursor for customization. The LLM we will select to help Cursor coding will be Claude AI 3.5 Sonnet."
   ]
  },
  {
   "cell_type": "markdown",
   "id": "df7b7bc5-06fc-4717-b95d-f6d795b97949",
   "metadata": {},
   "source": [
    "## 3. Explore possibilities (Brainstorming).\n",
    "* **For basic projects, you can use the starter template of Next.js.**\n",
    "    * This is what we will do for this project. \n",
    "* **For advanced projects, look for good Starter Templates in github and other sources.**\n",
    "* **For advanced projects, look for good UI inspirations.**\n",
    "    * Save the screenshots.\n",
    "    * In your Mac, use Shift+Command+3 to save all the screen.\n",
    "    * In your Mac, use Shift+Command+4 to select an area of the screen with your mouse.\n",
    "    * In Windows, you can use the Print Screen (PrtScn) button to capture a screenshot. Here are a few options:\n",
    "\n",
    "        1. Full Screen: Press PrtScn (Print Screen) to capture the entire screen. This screenshot is copied to your clipboard, and you can paste it into an image editor like Paint or Word.\n",
    "\n",
    "        2. Active Window: Press Alt + PrtScn to capture just the active window, then paste it into an image editor or document.\n",
    "\n",
    "        3. Snipping Tool or Snip & Sketch: \n",
    "           - For more flexibility, you can use Windows + Shift + S to open the Snip & Sketch tool, allowing you to capture a specific portion of the screen.\n",
    "           - You can also use the Snipping Tool app pre-installed on Windows for capturing screenshots with different modes like free-form or rectangular snips.\n",
    "\n",
    "        4. Full Screen Saved Directly: \n",
    "           - Press Windows + PrtScn to capture the entire screen and automatically save it as a file in the Screenshots folder within the Pictures library.\n",
    "\n",
    "    * You may also consider using advanced tools like [cleanshot.com](https://cleanshot.com/)\n",
    "* **Explore UI possibilities with [v0.dev](https://v0.dev/chat).**"
   ]
  },
  {
   "cell_type": "markdown",
   "id": "0896d719-48b0-4882-8b63-7fd00f2a5b1e",
   "metadata": {},
   "source": [
    "## 4. Decide the Starter Template you will use.\n",
    "For this basic project we will use a simple Next.js starter template. Let's break down the contents of this Starter Template in simple terms:\n",
    "1. Project Structure:\n",
    "* This is a Next.js 14 project using the App Router.\n",
    "* It's set up with TypeScript for type safety.\n",
    "* The main application code is located in the /src folder.\n",
    "2. Styling:\n",
    "* The project uses Tailwind CSS for styling.\n",
    "3. Dependencies:\n",
    "* React and Next.js are the core libraries.\n",
    "* Firebase will be used for authentication, database, and storage."
   ]
  },
  {
   "cell_type": "markdown",
   "id": "3f1c5b80-16e8-469d-bf43-b7513089b9f9",
   "metadata": {},
   "source": [
    "### 5. Open the Starter Template in Replit."
   ]
  },
  {
   "cell_type": "markdown",
   "id": "0aa00765-7de3-404a-ae54-51f0c2e1af8f",
   "metadata": {},
   "source": [
    "## 5. Option A: With Replit Template\n",
    "#### Step #1: Replit\n",
    "* Create Repl from template.\n",
    "* Search or Enter the name of the Replit template you want to use.\n",
    "* Remember that you will have to enter your own API keys opening the Secrets tab."
   ]
  },
  {
   "cell_type": "markdown",
   "id": "b598085f-25c2-40b4-8986-3464f5ddbcd9",
   "metadata": {},
   "source": [
    "## 5. Option B: Without Replit Template\n",
    "* **This is what we will do for this project.**\n",
    "#### |EXPLAINER VIDEO NUMBER 1| Step #1: v0\n",
    "* **Prompt #1:** create a react component for a todo-list app:\n",
    "    * The user can create a new to-do task.\n",
    "    * The user can see the list of to-do tasks.\n",
    "    * The user can update one particular to-do task.\n",
    "    * The user can delete one particular to-do task.\n",
    "    * Create a header and footer for the component.\n",
    "\n",
    "#### |EXPLAINER VIDEO NUMBER 2| Step #2: Terminal\n",
    "* Go to your projects folder.\n",
    "* **Create Nextjs starter template:**\n",
    "    * mkdir todo-with-cursor-eng\n",
    "    * npx create-next-app .\n",
    "        * project name: todo-with-cursor-eng \n",
    "        * With App Router\n",
    "* **Install the code from v0**\n",
    "    * cd your-project-name\n",
    "    * copy the installation command from the \"Add to codebase\" button in v0\n",
    "    * paste the command in terminal"
   ]
  },
  {
   "cell_type": "markdown",
   "id": "245787c8-d8d1-4b7c-9519-889daf935b5e",
   "metadata": {},
   "source": [
    "#### |EXPLAINER VIDEO NUMBER 3| Step #3: Visual Studio Code\n",
    "* See the component\n",
    "* See all dependencies installed in package.json\n",
    "* In page.tsx, **replace the default content in Home with the new component**."
   ]
  },
  {
   "cell_type": "code",
   "execution_count": null,
   "id": "0e702029-c372-4e47-ac04-651c5fcdf83d",
   "metadata": {},
   "outputs": [],
   "source": [
    "import {TodoList} from \"@/components/todo-list\";\n",
    "\n",
    "export default function Home() {\n",
    "  return (\n",
    "    <div className=\"font-sans\">\n",
    "      <TodoList />\n",
    "    </div>\n",
    "  );\n",
    "}"
   ]
  },
  {
   "cell_type": "markdown",
   "id": "ef54121c-dfba-4d67-bb76-b1c99cc01e37",
   "metadata": {},
   "source": [
    "#### Step #4: GitHub\n",
    "* Create new repo"
   ]
  },
  {
   "cell_type": "markdown",
   "id": "907b9221-38f3-47d7-9f0b-a085bb779cad",
   "metadata": {},
   "source": [
    "#### Step #5: Terminal\n",
    "* git init\n",
    "* git add .\n",
    "* git commit -m \"initial commit\"\n",
    "* git remote add origin yourGithubRepoURL\n",
    "    * `git@github.com:AI-LLM-Bootcamp/todo-with-cursor-eng.git`\n",
    "* git push -u origin main"
   ]
  },
  {
   "cell_type": "markdown",
   "id": "8d589124-90ea-4c8c-a93f-d7a0d8ff2057",
   "metadata": {},
   "source": [
    "#### |EXPLAINER VIDEO NUMBER 4| Step #7: Replit\n",
    "* If you did not created the Repl from a template, create a new Repl using the URL of the Github repo.\n",
    "    * `https://github.com/AI-LLM-Bootcamp/todo-with-cursor`\n",
    "* **Run the app with the Run button in Replit** or entering the following line in the Replit Terminal:\n",
    "    * npm run dev\n",
    "* See the app in the browser.\n",
    "* In Replit, in the right panel, click on new tab and search for \"Secrets\" to open the Secrets Tab.\n",
    "    * Here is where you will enter the API Keys necessary to run the Starter Template.\n",
    "* In Replit, click on the Run button to see the Starter Template in the Webview. "
   ]
  },
  {
   "cell_type": "markdown",
   "id": "0a4b31e0-4912-4079-b96e-6605d8f113e5",
   "metadata": {},
   "source": [
    "## |EXPLAINER VIDEO NUMBER 5| 6. Connect Cursor with Replit.\n",
    "#### Only the first time: Quick and easy connection\n",
    "* You will only have to do this once.\n",
    "* **Open Replit**.\n",
    "* Click on new tab, and search for SSH.\n",
    "* In the SSH tab, open the Keys subtab.\n",
    "* Click on the Add SSH Key button\n",
    "* Name the SSH Key\n",
    "* Before creating it, click on Learn how to generate an SSH key and copy the code you see there.\n",
    "* **Now open Cursor** and open a the terminal there in the bottom of the screen.\n",
    "* Paste the code there.\n",
    "* Click Enter.\n",
    "* That will generate a SSH key. Keep it confidential, do not share it. Copy it.\n",
    "* **Go back to Replit**. In the Add a new SSH key popup, paste the SSH key you just generated.\n",
    "* **Go back to Cursor**. Open the terminal there and enter the following commands\n",
    "    *  cd ~/.ssh\n",
    "    *  ls\n",
    "    *  nano config\n",
    "    *  paste the following lines at the top of the file"
   ]
  },
  {
   "cell_type": "code",
   "execution_count": null,
   "id": "bd23ec2b-4354-470d-92fd-c995ff8dc9cb",
   "metadata": {},
   "outputs": [],
   "source": [
    "Host *.replit.dev\n",
    "    Port 22\n",
    "    IdentityFile ~/.ssh/replit\n",
    "    StrictHostKeyChecking accept-new"
   ]
  },
  {
   "cell_type": "markdown",
   "id": "8317d5ee-247d-4be8-9b54-41292cf6421e",
   "metadata": {},
   "source": [
    "* To close the nano editor, press `CTRL+X`\n",
    "* To save the file press y\n",
    "* Press Enter\n",
    "* **Go back to Replit**.\n",
    "    * In the SSH tab, open the Connect subtab.\n",
    "    * Click on Launch Cursor.\n",
    "    * In Cursor, click Continue.\n",
    "    * You are good to go.\n",
    "\n",
    "* **If necessary, watch this video with detailed  instructions made by the Replit team [here](https://docs.replit.com/replit-workspace/ssh?utm_source=matt&utm_medium=youtube&utm_campaign=tutorials)**."
   ]
  },
  {
   "cell_type": "markdown",
   "id": "708dea69-bb18-47f6-b5e3-2cfa442ebf7c",
   "metadata": {},
   "source": [
    "#### After following the previous instructions to set the Replit-Cursor connection, you will not need to do it again. Just do the following:\n",
    "* Search for SSH in the tab search.\n",
    "* Click on the \"Launch Cursor\" button.\n",
    "* Cursor will open with the project folder you are in."
   ]
  },
  {
   "cell_type": "markdown",
   "id": "0abe2915-8fa7-4917-8572-820989c7d7ee",
   "metadata": {},
   "source": [
    "#### If the Replit-Cursor connection does not work for you, you can try this alternative way: Manual connection\n",
    "* In Cursor, click on Toggle Primary Side Bar (top right).\n",
    "* In the Primary Side Bar, click on the Extensions logo and search and install the following extensions:\n",
    "    *  Terminal\n",
    "    *  Remote - SSH\n",
    "    *  Remote - SSH: Editing Configuration Files\n",
    "    *  Remote Explorer\n",
    "* The \"Connect to Cursor\" button in the Replit SSH Connect tab does not always work. We will do it using an alternative approach:\n",
    "    * In Cursor,click the terminal icon (bottom right)\n",
    "    * click Command + K\n",
    "    * In the AI chat, enter the following prompt:\n",
    "        * generate an ssh key for replit, name it replit, and copy the public key to my clipboard.\n",
    "        * Then, press Enter.\n",
    "        * You will see that Cursor generates the terminal command for you.\n",
    "            * ssh-keygen -t rsa -b 4096 -f ~/.ssh/replit -C \"replit\" && cat ~/.ssh/replit.pub | pbcopy\n",
    "        * Press enter to execute that terminal command.\n",
    "        * If asks if overwrite, enter y\n",
    "        * Enter for no passphrase.\n",
    "        * Enter again.\n",
    "        * Now the ssh key is saved in your clipboard, so you will be able to paste it next.\n",
    "* **Go to Replit.**\n",
    "    * Open the SSH tab.\n",
    "    * Open the Keys subtab.\n",
    "    * Click on the Add SSH Key button.\n",
    "    * Paste the ssh key (Command + V for Mac)\n",
    "    * Click ont the Add SSH Key button.\n",
    "* In Replit, in the SSH tab, now open the Connect subtab.\n",
    "    * In the connect manually section, copy the Shell command.\n",
    "* **Go to Cursor.**\n",
    "    * In the home page of Cursor, click on Open with SSH.\n",
    "    * Paste the Shell Command.\n",
    "    * Do not hit Enter, select Add SSH Key.\n",
    "    * Paste the Shell Command again.\n",
    "    * Now hit Enter.\n",
    "    * Select the first option provided, the one in the top of the drop-down list.\n",
    "    * Click on the Connect button.\n",
    "    * Now you have Cursor and Replit connected.\n",
    "* In Cursor, press Open Folder button.\n",
    "* In the drop-down, select the Starter Template.\n",
    "* Click on the OK button.\n",
    "* **Now Replit and Cursor are synced and you can start working**."
   ]
  },
  {
   "cell_type": "markdown",
   "id": "cc4d7a90-3be0-4000-ac34-952ae7f0687f",
   "metadata": {},
   "source": [
    "## |EXPLAINER VIDEO NUMBER 6| 7. Open the Starter Template in Cursor."
   ]
  },
  {
   "cell_type": "markdown",
   "id": "163191d7-2fbd-4078-aefd-36b1f085a0f1",
   "metadata": {},
   "source": [
    "#### In Cursor, add the .cursorrules file to the root directory\n",
    "* You can find good examples in [cursor.directory](https://cursor.directory/).\n",
    "\n",
    "#### For this project, we will use the following content for the .cursorrules file:\n",
    "You are an expert in TypeScript, Next.js App Router, React, and Tailwind. Follow @Next.js 14 App Router docs for Data Fetching, Rendering, and Routing. Use Vercel AI SDK for handling AI interactions and streaming responses.\n",
    "\n",
    "- All project files are saved in the /src folder. \n",
    "  - src/app has the page.tsx and layout.tsx files\n",
    "  - src/app/api has the API routes\n",
    "  - src/app/components has all the React components\n",
    "  - src/app/lib has all the other code like helpers, hooks, and contexts\n",
    "\n",
    "This standard Next.js template is connected with Firebase. The Firebase API keys are in the Secrets section of Replit."
   ]
  },
  {
   "cell_type": "markdown",
   "id": "33ba6522-b7c4-4fa3-bb39-93be403ebf54",
   "metadata": {},
   "source": [
    "## |EXPLAINER VIDEO NUMBER 7| 8. Create the Database, Storage, and Authentication in Firebase.\n",
    "* Open [Firebase](https://firebase.google.com/).\n",
    "* Click on Get Started.\n",
    "* Click on Get Started with a New Firebase Project.\n",
    "* Name the new project.\n",
    "    * v1-013-todo-with-cursor-eng \n",
    "* For simple projects, do NOT enable the option Google Analytics in Firebase.\n",
    "* Click on Create Project.\n",
    "* Once created, click Continue.\n",
    "* Add Firebase to your app: choose Web (</>).\n",
    "* Register the app in Firebase by entering a name.\n",
    "    * v1-013-todo-with-cursor-eng\n",
    "\n",
    "#### If you are using a Replit Template\n",
    "* Do NOT select Also set up Firebase Hosting.\n",
    "* Click on the button Register App.\n",
    "* You do not need to install the npm package. The Starter Template is taking care of it for you.\n",
    "\n",
    "#### If you are NOT using a Replit Template\n",
    "* Install firebase in the Replit Terminal\n",
    "    * `npm install firebase`\n",
    "\n",
    "#### Enter the Firebase API Keys in the Replit Secrets Tab\n",
    "* You will have to copy the code to add the Firebase Configuration in your app. Do not share this confidential information. You will have to copy the data under `// Your web app's Firebase configuration, and paste this data in the Secrets tab in Replit. Remember to click on the Add Secret button each time. This will connect Firebase with your app.`\n",
    "* **Open the Secrets Tab in Replit.** \n",
    "* One by one, copy the Firebase API Keys and paste them in the Secrets tab in Replit.\n",
    "    * NEXT_PUBLIC_FIREBASE_API_KEY\n",
    "    * NEXT_PUBLIC_FIREBASE_AUTH_DOMAIN\n",
    "    * NEXT_PUBLIC_FIREBASE_PROJECT_ID\n",
    "    * NEXT_PUBLIC_FIREBASE_STORAGE_BUCKET\n",
    "    * NEXT_PUBLIC_FIREBASE_MESSAGING_SENDER_ID\n",
    "    * NEXT_PUBLIC_FIREBASE_APP_ID\n",
    "* **In Firebase, click on Continue to console.**"
   ]
  },
  {
   "cell_type": "markdown",
   "id": "f3ddfa9b-00b7-4fde-a449-a7ffc602610d",
   "metadata": {},
   "source": [
    "#### |EXPLAINER VIDEO NUMBER 8| Firebase Database Creation\n",
    "* In the Firebase dashboard, select Build > Firestore Database.\n",
    "* Click on the Create Database button.\n",
    "* Select Location.\n",
    "* Click on the Next Button.\n",
    "* For demo projects, Select Start in test mode.\n",
    "* Click on the Create Button."
   ]
  },
  {
   "cell_type": "markdown",
   "id": "2df9558c-b9cf-4648-bbf6-cfd24579be2b",
   "metadata": {},
   "source": [
    "#### |EXPLAINER VIDEO NUMBER 9| Firebase Storage Creation\n",
    "* Storage is where your app will store the user-generated content. It will create a folder for the user-generated content of each user of the app.\n",
    "* In the Firebase dashboard, select Build > Storage.\n",
    "* Click on the Get Started button.\n",
    "* For demo projects, Select Start in test mode.\n",
    "* Click on the Done button."
   ]
  },
  {
   "cell_type": "markdown",
   "id": "a6697d9a-bc4e-4591-8656-a135a077f88a",
   "metadata": {},
   "source": [
    "#### |EXPLAINER VIDEO NUMBER 10| Firebase Authentication\n",
    "* Setting the Authentication is very easy with Firebase. Firebase belongs to Google, that is why setting Google Authentication is so easy.\n",
    "* In the Firebase dashboard, select Build > Authentication.\n",
    "* Click on the Get Started button.\n",
    "* Go to Replit.\n",
    "    * Click on the Run button.\n",
    "    * Copy the URL of the webview.\n",
    "* Go back to Firebase Authentication.\n",
    "    * Select Settings.\n",
    "    * Select Authorized domains.\n",
    "    * Click on the Add Domain button.\n",
    "    * Copy the URL.\n",
    "    * Now the dev project in Replit is able to use authentication. When you move your app to production, you will have to add the production URL here as well.\n",
    "    * Go to Sign-in method.\n",
    "    * For basic projects, just select Google.\n",
    "    * Select enable.\n",
    "    * Select your email as support email.\n",
    "    * Click Save."
   ]
  },
  {
   "cell_type": "markdown",
   "id": "9209be1a-3e2f-42c8-813a-985d80321735",
   "metadata": {},
   "source": [
    "## 9. Connect Firebase with Replit.\n",
    "* Done in the previous section."
   ]
  },
  {
   "cell_type": "markdown",
   "id": "75761a97-c538-43f9-a1ae-93eb3e4264cb",
   "metadata": {},
   "source": [
    "## |EXPLAINER VIDEO NUMBER 11| 10. Open the Starter Template with the Webview in Replit.\n",
    "* Click on the Run button."
   ]
  },
  {
   "cell_type": "markdown",
   "id": "de9c46fd-f1be-41cf-8d8c-5b31322aaded",
   "metadata": {},
   "source": [
    "## 11. Confirm the Starter Template is working fine."
   ]
  },
  {
   "cell_type": "markdown",
   "id": "85dd8d66-da6c-402c-80ab-2346386fd8bb",
   "metadata": {},
   "source": [
    "* |EXPLAINER VIDEO NUMBER 12| **If you want to create your own Replit template for this project, do it now.**\n",
    "    * You will have to make the project Public in Replit.\n",
    "    * Then, in Replit, click on the title of the project, select the option to publish it as template, and follow the Replit instructions to do it."
   ]
  },
  {
   "cell_type": "markdown",
   "id": "7c7ea17c-914b-4614-b8ea-783dc93843db",
   "metadata": {},
   "source": [
    "## |EXPLAINER VIDEO NUMBER 13| 12. Connect Github with Replit.\n",
    "\n",
    "#### If you used a Replit Template\n",
    "* Create a new repo in your github account.\n",
    "* If you are using a Replit Template, delete the .git folder of the Replit Template\n",
    "* Open a new tab. Search for Git.\n",
    "* Click on Connect to Github.\n",
    "* Enter the URL of your new repo.\n",
    "* Click push.\n",
    "* From now on, you can manage your github repo from here.\n",
    "\n",
    "#### If you created your Repl from a Github repo\n",
    "* Open a new tab. Search for Git.\n",
    "* Click on Connect to Github.\n",
    "* Enter the URL of your new repo.\n",
    "* From now on, you can manage your github repo from here."
   ]
  },
  {
   "cell_type": "markdown",
   "id": "c4d69cac-c68d-470e-a0b8-4f06076a636e",
   "metadata": {},
   "source": [
    "## 13. Start saving versions of the project in Github.\n",
    "* Done in previous section."
   ]
  },
  {
   "cell_type": "markdown",
   "id": "bec11e45-9b96-4d8d-9a83-038b6063bcc2",
   "metadata": {},
   "source": [
    "## |EXPLAINER VIDEO NUMBER 14|  14. If necessary, test the Deployment of the Starter Template with Replit.\n",
    "* Our recommendation: do not deploy your app until it is ready.\n",
    "    * Usually, you will not need to deploy a demo app. \n",
    "* When you are ready, click on Deploy (top right)\n",
    "    * Careful, this will cost you money in Replit. See options and pricing.\n",
    "    * Static is normally the cheapest one and the best option for small Nextjs projects."
   ]
  },
  {
   "cell_type": "markdown",
   "id": "dc263f18-1bcd-4012-8d7f-56cebb957be8",
   "metadata": {},
   "source": [
    "## 15. Add a .cursorrules file\n",
    "* If you are using our Replit template, it already has a .cursorrules file.\n",
    "* If you are not using our Replit template, remember the .cursorrules file content we proposed in **section 5. Option B.**\n",
    "* If you need to use a different cursorrules file, you can find good templates [here.](https://cursor.directory/)\n",
    "* Remember that you can also use LLMs like ChatGPT to help you writing the content of the .cursorrules file."
   ]
  },
  {
   "cell_type": "markdown",
   "id": "cee68e65-3779-4b10-a9af-8d1946a0ebcb",
   "metadata": {},
   "source": [
    "## |EXPLAINER VIDEO NUMBER 15| 16. Prepare the initial prompt for Cursor Composer\n",
    "* In Cursor:\n",
    "    * Command + Shift + I to open Composer.\n",
    "    * In the Composer, paste the initial prompt with the necessary information to complete the app:\n",
    "        * System prompt.\n",
    "        * App description.\n",
    "        * App flow and functionality.\n",
    "* Remember that you can use LLMs like ChatGPT to help you writing the content of the initial prompt you enter into Cursor."
   ]
  },
  {
   "cell_type": "markdown",
   "id": "98e537fe-9242-4297-ab54-ff4470ab62f9",
   "metadata": {},
   "source": [
    "#### Initial Prompt for our ToDo App\n",
    "\n",
    "#### ToDo App\n",
    "\n",
    "#### System prompt:\n",
    "You are an expert in TypeScript, Next.js App Router, React, and Tailwind. Follow @Next.js docs for Data Fetching, Rendering, and Routing. \n",
    "\n",
    "\n",
    "#### App description:\n",
    "I want to create a to-do app. \n",
    "\n",
    "\n",
    "#### App flow and functionality:\n",
    "The flow of the app is as follows:\n",
    "* The user can create a new to-do task.\n",
    "* The user can see the list of to-do tasks.\n",
    "* The user can update one particular to-do task.\n",
    "* The user can delete one particular to-do task.\n",
    "\n",
    "This application is set-up with existing configuration for Firebase. Implement all the functionality in the flow above while using the existing codebase as a starting point, but fully modify the codebase to fit the flow and functionality described above.\n",
    "\n",
    "Keep in mind that the Firebase API Keys are in the Secrets Tab in Replit.\n",
    "\n",
    "@Codebase"
   ]
  },
  {
   "cell_type": "markdown",
   "id": "89d7ee82-d8ef-429f-8ddc-7b9b282ab3cd",
   "metadata": {},
   "source": [
    "## 17. Enter the initial prompt in the Cursor Composer\n",
    "* Go to Cursor.\n",
    "* Open the composer (Command + Shift + I).\n",
    "* Copy and paste the system prompt.\n",
    "    * Remember to add @Codebase at the end of the prompt. That way Composer will include all the project files as context."
   ]
  },
  {
   "cell_type": "markdown",
   "id": "e3854a33-4213-4e1d-ba26-76af4c5dcd1c",
   "metadata": {},
   "source": [
    "#### Frequent Errors:\n",
    "* Sometimes the Composer will not realize that you have entered the necessary API keys in the Replit Secrets Section. If it tells you that you need to enter an API key that you have already entered in the Replit Secrets Section, just tell Composer that the API key is there and tell him the name of the variable holding the API key in the Replit Secrets Section.\n",
    "* Sometimes you will see an error message in your Chrome DevTools console suggesting that you need to create an index for the Firebase Database. Click on the link provided in the error message itself to create the necessary index and give some time to Firebase until the index has been created. Sometimes Firebase needs a few minutes to complete this operation."
   ]
  },
  {
   "cell_type": "markdown",
   "id": "61d9d0d2-b200-48d3-8447-c3fd3a909cf2",
   "metadata": {},
   "source": [
    "## |EXPLAINER VIDEO NUMBER 16| 18. Go back to Replit and start the debugging process\n",
    "* Click on the Stop/Run button to restart the project in Replit\n",
    "* Copy the webview URL and open it in a new tab of the Chrome browser. Open the View > Developer > Developer Tools to see error messages in detail.\n",
    "* If there is an error message, copy the error message. The best way to do it is Command + Shift + 4 to select with your mouse the area of the screen showing the error message. For more info about this, review section 3.\n",
    "* Paste the error message in the Cursor Composer and talk to the Composer as you would talk to a Junior Developer that is there to help you fix the app.\n",
    "* Once Composer provides a fix, click on Accept All and go back to the top bullet point of this section."
   ]
  },
  {
   "cell_type": "markdown",
   "id": "da1f120d-a595-430b-8ec9-d77c83999538",
   "metadata": {},
   "source": [
    "## Possible outcomes of the debugging process with Composer:\n",
    "* Option A: After a few prompts (less than 8-10), the Composer is able to build de app successfully.\n",
    "* Option B: After a few prompts (less than 8-10), the Composer is NOT able to build de app successfully. In this case:\n",
    "    * You may need to help Composer with your guidance and insights.\n",
    "    * You may need to use another LLM like chatGPT to help Composer to fix difficult problems.\n",
    "    * You may decide that your Replit Template was not completed enough and you decide to improve it to make things easier to Composer. The more detailed the Replit template, the less room for errors with the Cursor Composer."
   ]
  },
  {
   "cell_type": "markdown",
   "id": "a60187bc-8269-4290-8085-20e184302d3d",
   "metadata": {},
   "source": [
    "## Remember:\n",
    "* When debugging, monitor closely your credits (called \"requests\") in Cursor Settings, since debugging can consume several credits.\n",
    "* You can do it by going to the Cursor website. Once logged in, click on the Settings Area of your Cursor Account in the Cursor Website.\n",
    "    * You can monitor how many requests you have remaining by checking this link: [See how many requests you have available in your Cursor plan](https://www.cursor.com/settings).\n",
    "    * You will see your monthly use of fast requests on premium models (like Claude AI 3.5 Sonnet).\n",
    "    * If you consume all your monthly quota, you will need to buy additional credits.\n",
    "* Remember also that at any moment you can revert the changes introduced by the Composer clicking on the \"checkout\" links you will see at the beginning of his reponses.\n",
    "* Remember also that you can use another LLM App like ChatGPT or Claude AI to help you solve the errors Composer is not able to fix."
   ]
  },
  {
   "cell_type": "markdown",
   "id": "e5134989-8622-4244-b689-a33f0829330c",
   "metadata": {},
   "source": [
    "## 19. Use prompting and debugging in Cursor to transform the Starter Template into your desired app.\n",
    "* Take inspiration from screenshots.\n",
    "* Take inspiration from v0.dev code.\n",
    "* Take inspiration from backend code and APIs."
   ]
  },
  {
   "cell_type": "markdown",
   "id": "a282f5ba-7464-4687-b2bc-e38dfa2e8e15",
   "metadata": {},
   "source": [
    "#### Very simple examples of following-up prompts:\n",
    "* Change the color palette of the app so it has a more Mediterranean style.\n",
    "* Add a button in the home page so the user can do XYZ.\n",
    "* Etc."
   ]
  },
  {
   "cell_type": "markdown",
   "id": "49ab3a98-165c-4c8d-a192-c3f31830b2b1",
   "metadata": {},
   "source": [
    "#### Again, remember that experimenting with Cursor will consume some of the requests you have available for each month. \n",
    "* You can monitor how many requests you have remaining by checking this link: [See how many requests you have available in your Cursor plan](https://www.cursor.com/settings)."
   ]
  },
  {
   "cell_type": "code",
   "execution_count": null,
   "id": "61997be5-c5ce-42aa-9dfa-1a975fc1f0b2",
   "metadata": {},
   "outputs": [],
   "source": []
  }
 ],
 "metadata": {
  "kernelspec": {
   "display_name": "Python 3 (ipykernel)",
   "language": "python",
   "name": "python3"
  },
  "language_info": {
   "codemirror_mode": {
    "name": "ipython",
    "version": 3
   },
   "file_extension": ".py",
   "mimetype": "text/x-python",
   "name": "python",
   "nbconvert_exporter": "python",
   "pygments_lexer": "ipython3",
   "version": "3.11.4"
  }
 },
 "nbformat": 4,
 "nbformat_minor": 5
}
