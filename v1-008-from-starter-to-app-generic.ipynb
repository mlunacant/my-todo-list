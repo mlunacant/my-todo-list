{
 "cells": [
  {
   "cell_type": "markdown",
   "id": "d2f2b4ef-0ce4-4b69-a845-a06b57a13ed1",
   "metadata": {},
   "source": [
    "# From starter template to app using Replit, Cursor and Firebase: Generic Operations\n",
    "1. Plan the App.\n",
    "2. Decide the Stack.\n",
    "3. Explore possibilities (Brainstorming).\n",
    "4. Decide the Starter Template.\n",
    "5. Open the Starter Template in Replit.\n",
    "6. Connect Cursor with Replit.\n",
    "7. Open the Starter Template in Cursor.\n",
    "8. Create the Database in Firebase.\n",
    "9. Connect Firebase with Replit.\n",
    "10. Open the Starter Template with the Webview in Replit.\n",
    "11. Confirm the Starter Template is working fine.\n",
    "12. Connect Github with Replit.\n",
    "13. Start saving versions of the project in Github.\n",
    "14. Test the Deployment of the Starter Template with Replit.\n",
    "15. Use prompting and debugging in Cursor to transform the Starter Template into your desired app."
   ]
  },
  {
   "cell_type": "markdown",
   "id": "d43cd252-c6df-4ac2-8f47-82d3098c06ff",
   "metadata": {},
   "source": [
    "## 1. Plan the App.\n",
    "* Define very clearly the main use case of the app.\n",
    "    * Who is the user?\n",
    "    * What is his necessity?\n",
    "    * What is he going to do in the app? What steps is he going to follow?\n",
    "* Visualize the logic of the app.\n",
    "    * input.\n",
    "    * process.\n",
    "    * output.\n",
    "* Visualize a draft of the UI."
   ]
  },
  {
   "cell_type": "markdown",
   "id": "fe1b2e97-ba5f-4120-ad5a-9e873772ff1b",
   "metadata": {},
   "source": [
    "## 2. Decide the Stack.\n",
    "* Remember: Since they have been trained with the code posted on the Internet, LLMs work better with popular languages.\n",
    "* Remember: You can use the @Docs feature in Cursor to tell Cursor where is the documentation of a particular language, package or version. This is specially interesting when you need to use a new language, framework of package that the LLM may not be familiar with.\n",
    "* For our basic projects, we will use the most popular stack:\n",
    "    * Next.js, Typescript and Tailwind CSS in the frontend.\n",
    "    * FastAPI in the backend.\n",
    "    * Firebase for database and authentication.\n",
    "    * OpenAI's GPT4o as LLM.\n",
    "* Pay attention to this: the LLM we will use to help Cursor coding will Claude AI 3.5 Sonnet and the LLM we will use to generate answers in our apps will be GPT4o."
   ]
  },
  {
   "cell_type": "markdown",
   "id": "df7b7bc5-06fc-4717-b95d-f6d795b97949",
   "metadata": {},
   "source": [
    "## 3. Explore possibilities (Brainstorming).\n",
    "* **Look for good Starter Templates in github and other sources.**\n",
    "* **Look for good UI inspirations.**\n",
    "    * Save the screenshots.\n",
    "    * In your Mac, use Shift+Command+3 to save all the screen.\n",
    "    * In your Mac, use Shift+Command+4 to select an area of the screen with your mouse.\n",
    "    * In Windows, you can use the Print Screen (PrtScn) button to capture a screenshot. Here are a few options:\n",
    "\n",
    "        1. Full Screen: Press PrtScn (Print Screen) to capture the entire screen. This screenshot is copied to your clipboard, and you can paste it into an image editor like Paint or Word.\n",
    "\n",
    "        2. Active Window: Press Alt + PrtScn to capture just the active window, then paste it into an image editor or document.\n",
    "\n",
    "        3. Snipping Tool or Snip & Sketch: \n",
    "           - For more flexibility, you can use Windows + Shift + S to open the Snip & Sketch tool, allowing you to capture a specific portion of the screen.\n",
    "           - You can also use the Snipping Tool app pre-installed on Windows for capturing screenshots with different modes like free-form or rectangular snips.\n",
    "\n",
    "        4. Full Screen Saved Directly: \n",
    "           - Press Windows + PrtScn to capture the entire screen and automatically save it as a file in the Screenshots folder within the Pictures library.\n",
    "\n",
    "    * You may also consider using advanced tools like [cleanshot.com](https://cleanshot.com/)\n",
    "* **Explore UI possibilities with [v0.dev](https://v0.dev/chat).**"
   ]
  },
  {
   "cell_type": "markdown",
   "id": "0896d719-48b0-4882-8b63-7fd00f2a5b1e",
   "metadata": {},
   "source": [
    "## 4. Decide the Starter Template you will use."
   ]
  },
  {
   "cell_type": "markdown",
   "id": "b598085f-25c2-40b4-8986-3464f5ddbcd9",
   "metadata": {},
   "source": [
    "## 5. Open the Starter Template in Replit."
   ]
  },
  {
   "cell_type": "markdown",
   "id": "0a4b31e0-4912-4079-b96e-6605d8f113e5",
   "metadata": {},
   "source": [
    "## 6. Connect Cursor with Replit."
   ]
  },
  {
   "cell_type": "markdown",
   "id": "cc4d7a90-3be0-4000-ac34-952ae7f0687f",
   "metadata": {},
   "source": [
    "## 7. Open the Starter Template in Cursor."
   ]
  },
  {
   "cell_type": "markdown",
   "id": "33ba6522-b7c4-4fa3-bb39-93be403ebf54",
   "metadata": {},
   "source": [
    "## 8. Create the Database in Firebase."
   ]
  },
  {
   "cell_type": "markdown",
   "id": "9209be1a-3e2f-42c8-813a-985d80321735",
   "metadata": {},
   "source": [
    "## 9. Connect Firebase with Replit."
   ]
  },
  {
   "cell_type": "markdown",
   "id": "75761a97-c538-43f9-a1ae-93eb3e4264cb",
   "metadata": {},
   "source": [
    "## 10. Open the Starter Template with the Webview in Replit."
   ]
  },
  {
   "cell_type": "markdown",
   "id": "de9c46fd-f1be-41cf-8d8c-5b31322aaded",
   "metadata": {},
   "source": [
    "## 11. Confirm the Starter Template is working fine."
   ]
  },
  {
   "cell_type": "markdown",
   "id": "7c7ea17c-914b-4614-b8ea-783dc93843db",
   "metadata": {},
   "source": [
    "## 12. Connect Github with Replit."
   ]
  },
  {
   "cell_type": "markdown",
   "id": "c4d69cac-c68d-470e-a0b8-4f06076a636e",
   "metadata": {},
   "source": [
    "## 13. Start saving versions of the project in Github."
   ]
  },
  {
   "cell_type": "markdown",
   "id": "bec11e45-9b96-4d8d-9a83-038b6063bcc2",
   "metadata": {},
   "source": [
    "## 14. Test the Deployment of the Starter Template with Replit."
   ]
  },
  {
   "cell_type": "markdown",
   "id": "e5134989-8622-4244-b689-a33f0829330c",
   "metadata": {},
   "source": [
    "## 15. Use prompting and debugging in Cursor to transform the Starter Template into your desired app.\n",
    "* Take inspiration from screenshots.\n",
    "* Take inspiration from v0.dev code.\n",
    "* Take inspiration from backend code and APIs."
   ]
  },
  {
   "cell_type": "code",
   "execution_count": null,
   "id": "fce9d8d8-a808-446a-bd46-32b538852ad2",
   "metadata": {},
   "outputs": [],
   "source": []
  }
 ],
 "metadata": {
  "kernelspec": {
   "display_name": "Python 3 (ipykernel)",
   "language": "python",
   "name": "python3"
  },
  "language_info": {
   "codemirror_mode": {
    "name": "ipython",
    "version": 3
   },
   "file_extension": ".py",
   "mimetype": "text/x-python",
   "name": "python",
   "nbconvert_exporter": "python",
   "pygments_lexer": "ipython3",
   "version": "3.11.4"
  }
 },
 "nbformat": 4,
 "nbformat_minor": 5
}
